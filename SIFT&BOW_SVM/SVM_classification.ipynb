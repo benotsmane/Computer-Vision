{
  "nbformat": 4,
  "nbformat_minor": 0,
  "metadata": {
    "colab": {
      "name": "Copie de TP 2-Bis SVM - Sorbonne.ipynb",
      "provenance": [],
      "collapsed_sections": []
    },
    "kernelspec": {
      "name": "python3",
      "display_name": "Python 3"
    }
  },
  "cells": [
    {
      "cell_type": "code",
      "metadata": {
        "id": "QK8of_MGVV2M",
        "outputId": "dcb29a7f-c24f-4b3d-d214-2de5dcbf343f",
        "colab": {
          "base_uri": "https://localhost:8080/"
        }
      },
      "source": [
        "!wget http://webia.lip6.fr/~douillard/rdfia/15_scenes_Xy.npz"
      ],
      "execution_count": 1,
      "outputs": [
        {
          "output_type": "stream",
          "text": [
            "--2020-11-16 11:00:23--  http://webia.lip6.fr/~douillard/rdfia/15_scenes_Xy.npz\n",
            "Resolving webia.lip6.fr (webia.lip6.fr)... 132.227.201.33\n",
            "Connecting to webia.lip6.fr (webia.lip6.fr)|132.227.201.33|:80... connected.\n",
            "HTTP request sent, awaiting response... 200 OK\n",
            "Length: 35952210 (34M) [text/plain]\n",
            "Saving to: ‘15_scenes_Xy.npz’\n",
            "\n",
            "15_scenes_Xy.npz    100%[===================>]  34.29M  20.5MB/s    in 1.7s    \n",
            "\n",
            "2020-11-16 11:00:25 (20.5 MB/s) - ‘15_scenes_Xy.npz’ saved [35952210/35952210]\n",
            "\n"
          ],
          "name": "stdout"
        }
      ]
    },
    {
      "cell_type": "code",
      "metadata": {
        "id": "PH3AHmt_WAOs",
        "outputId": "35aa0507-3f3f-4852-c543-753576fd29a3",
        "colab": {
          "base_uri": "https://localhost:8080/"
        }
      },
      "source": [
        "%pylab inline\n",
        "\n",
        "import matplotlib.pyplot as plt\n",
        "import numpy as np\n",
        "from sklearn.svm import SVC\n",
        "from sklearn.model_selection import KFold, train_test_split"
      ],
      "execution_count": 3,
      "outputs": [
        {
          "output_type": "stream",
          "text": [
            "Populating the interactive namespace from numpy and matplotlib\n"
          ],
          "name": "stdout"
        }
      ]
    },
    {
      "cell_type": "markdown",
      "metadata": {
        "id": "A6TfY3K0W8MM"
      },
      "source": [
        "Loading BoW of the whole dataset (4485 images, thus 4485 dictionnary of 1001 words):"
      ]
    },
    {
      "cell_type": "code",
      "metadata": {
        "id": "FWLV0po7WO1E",
        "outputId": "32e1d4d8-5822-4018-db04-b493cd05929c",
        "colab": {
          "base_uri": "https://localhost:8080/"
        }
      },
      "source": [
        "data = np.load(\"15_scenes_Xy.npz\")\n",
        "X = data[\"X\"]\n",
        "y = data[\"y\"]\n",
        "\n",
        "X.shape, y.shape"
      ],
      "execution_count": 4,
      "outputs": [
        {
          "output_type": "execute_result",
          "data": {
            "text/plain": [
              "((4485, 1001), (4485,))"
            ]
          },
          "metadata": {
            "tags": []
          },
          "execution_count": 4
        }
      ]
    },
    {
      "cell_type": "markdown",
      "metadata": {
        "id": "Sfh5x5kYXFcY"
      },
      "source": [
        "Let's see what is the class distribution:"
      ]
    },
    {
      "cell_type": "code",
      "metadata": {
        "id": "RqNSdTTkWiPQ",
        "outputId": "8f61bfff-2190-4bfa-8f86-b38127206b5a",
        "colab": {
          "base_uri": "https://localhost:8080/"
        }
      },
      "source": [
        "{c: nb for c, nb in enumerate(np.bincount(y))}"
      ],
      "execution_count": 5,
      "outputs": [
        {
          "output_type": "execute_result",
          "data": {
            "text/plain": [
              "{0: 241,\n",
              " 1: 360,\n",
              " 2: 328,\n",
              " 3: 260,\n",
              " 4: 308,\n",
              " 5: 374,\n",
              " 6: 410,\n",
              " 7: 292,\n",
              " 8: 356,\n",
              " 9: 215,\n",
              " 10: 216,\n",
              " 11: 311,\n",
              " 12: 210,\n",
              " 13: 289,\n",
              " 14: 315}"
            ]
          },
          "metadata": {
            "tags": []
          },
          "execution_count": 5
        }
      ]
    },
    {
      "cell_type": "markdown",
      "metadata": {
        "id": "MVUjgR30X7pI"
      },
      "source": [
        "Split the dataset into a train & test set:"
      ]
    },
    {
      "cell_type": "code",
      "metadata": {
        "id": "AO4XiNupWjVk"
      },
      "source": [
        "X_train, X_test, y_train, y_test = train_test_split(X, y, test_size=0.2)"
      ],
      "execution_count": 6,
      "outputs": []
    },
    {
      "cell_type": "markdown",
      "metadata": {
        "id": "SsnJDa_IYdmk"
      },
      "source": [
        "Then a validation set from the train set:"
      ]
    },
    {
      "cell_type": "code",
      "metadata": {
        "id": "jjX3N-35YcFs"
      },
      "source": [
        "X_train, X_val, y_train, y_val = train_test_split(X_train, y_train, test_size=0.1)"
      ],
      "execution_count": 7,
      "outputs": []
    },
    {
      "cell_type": "markdown",
      "metadata": {
        "id": "NHlcmt-SYBKQ"
      },
      "source": [
        "Let's KFold over different values of `C`:"
      ]
    },
    {
      "cell_type": "code",
      "metadata": {
        "id": "F9wZ9l5FX_QY",
        "outputId": "460eec4d-343a-4b73-9a3a-8594ce251573",
        "colab": {
          "base_uri": "https://localhost:8080/"
        }
      },
      "source": [
        "C_values = np.arange(0.5,10,0.5)\n",
        "accuracies = []\n",
        "\n",
        "for c in C_values:\n",
        "  print(f'Training SVM with C={c}')\n",
        "  \n",
        "  clf = SVC(C=c)\n",
        "\n",
        "  model = clf.fit(X_train, y_train)\n",
        "\n",
        "  # Evaluate on val set\n",
        "  acc = model.score(X_val, y_val)\n",
        "  print(f'--> accuracy = {acc}')\n",
        "\n",
        "  accuracies.append(acc)"
      ],
      "execution_count": 10,
      "outputs": [
        {
          "output_type": "stream",
          "text": [
            "Training SVM with C=0.5\n",
            "--> accuracy = 0.47075208913649025\n",
            "Training SVM with C=1.0\n",
            "--> accuracy = 0.5766016713091922\n",
            "Training SVM with C=1.5\n",
            "--> accuracy = 0.6100278551532033\n",
            "Training SVM with C=2.0\n",
            "--> accuracy = 0.649025069637883\n",
            "Training SVM with C=2.5\n",
            "--> accuracy = 0.6768802228412256\n",
            "Training SVM with C=3.0\n",
            "--> accuracy = 0.7075208913649025\n",
            "Training SVM with C=3.5\n",
            "--> accuracy = 0.724233983286908\n",
            "Training SVM with C=4.0\n",
            "--> accuracy = 0.7353760445682451\n",
            "Training SVM with C=4.5\n",
            "--> accuracy = 0.7520891364902507\n",
            "Training SVM with C=5.0\n",
            "--> accuracy = 0.7632311977715878\n",
            "Training SVM with C=5.5\n",
            "--> accuracy = 0.7632311977715878\n",
            "Training SVM with C=6.0\n",
            "--> accuracy = 0.7604456824512534\n",
            "Training SVM with C=6.5\n",
            "--> accuracy = 0.7604456824512534\n",
            "Training SVM with C=7.0\n",
            "--> accuracy = 0.7715877437325905\n",
            "Training SVM with C=7.5\n",
            "--> accuracy = 0.7715877437325905\n",
            "Training SVM with C=8.0\n",
            "--> accuracy = 0.7715877437325905\n",
            "Training SVM with C=8.5\n",
            "--> accuracy = 0.7715877437325905\n",
            "Training SVM with C=9.0\n",
            "--> accuracy = 0.7743732590529248\n",
            "Training SVM with C=9.5\n",
            "--> accuracy = 0.7771587743732591\n"
          ],
          "name": "stdout"
        }
      ]
    },
    {
      "cell_type": "code",
      "metadata": {
        "id": "a8md3e7iZN5M",
        "outputId": "0faf046e-e200-4842-f979-a0f810a781e4",
        "colab": {
          "base_uri": "https://localhost:8080/",
          "height": 279
        }
      },
      "source": [
        "#plot the relation between `c` and the accuracy\n",
        "import matplotlib.pyplot as plt\n",
        "\n",
        "plt.plot(C_values, accuracies) \n",
        "plt.xlabel('C value')\n",
        "plt.ylabel('accuracy')  \n",
        "#plt.hist(tabNb)\n",
        "plt.show()"
      ],
      "execution_count": 13,
      "outputs": [
        {
          "output_type": "display_data",
          "data": {
            "image/png": "[encoded data removed]",
            "text/plain": [
              "<Figure size 432x288 with 1 Axes>"
            ]
          },
          "metadata": {
            "tags": [],
            "needs_background": "light"
          }
        }
      ]
    },
    {
      "cell_type": "code",
      "metadata": {
        "id": "SK7WWSltbJbc",
        "outputId": "e0dae6cc-0a24-40bc-bfd9-b3d9767870a6",
        "colab": {
          "base_uri": "https://localhost:8080/"
        }
      },
      "source": [
        "#Fit on the whole train set, evaluate on the test set \n",
        "\n",
        "clf = SVC(C=10)\n",
        "model = clf.fit(X_train, y_train)\n",
        "accuracy_test = model.score(X_test, y_test)\n",
        "print(f'--> accuracy test = {accuracy_test}')"
      ],
      "execution_count": 17,
      "outputs": [
        {
          "output_type": "stream",
          "text": [
            "--> accuracy test = 0.6956521739130435\n"
          ],
          "name": "stdout"
        }
      ]
    }
  ]
}